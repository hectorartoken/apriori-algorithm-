{
 "cells": [
  {
   "cell_type": "code",
   "execution_count": 2,
   "metadata": {},
   "outputs": [],
   "source": [
    "db = [{'A','C','D'},{'B','C','E'},{'A','B','C','E'},{'B','E'}]"
   ]
  },
  {
   "cell_type": "code",
   "execution_count": 25,
   "metadata": {},
   "outputs": [],
   "source": [
    "def potencia(c):\n",
    "    \"\"\"Calcula y devuelve el conjunto potencia del \n",
    "       conjunto c.\n",
    "    \"\"\"\n",
    "    if len(c) == 0:\n",
    "        return [[]]\n",
    "    r = potencia(c[:-1])\n",
    "    return r + [s + [c[-1]] for s in r]"
   ]
  },
  {
   "cell_type": "code",
   "execution_count": 26,
   "metadata": {},
   "outputs": [],
   "source": [
    "def combinaciones(c, n):\n",
    "    \"\"\"Calcula y devuelve una lista con todas las\n",
    "       combinaciones posibles que se pueden hacer\n",
    "       con los elementos contenidos en c tomando n\n",
    "       elementos a la vez.\n",
    "    \"\"\"\n",
    "    return [s for s in potencia(c) if len(s) == n]"
   ]
  },
  {
   "cell_type": "code",
   "execution_count": 41,
   "metadata": {},
   "outputs": [],
   "source": [
    "def candidate(db,k):\n",
    "    if k == 1:\n",
    "        c_1 = []\n",
    "        union = db[0]\n",
    "        for i in range(1,len(db)-1):\n",
    "            union |= db[i]\n",
    "        union = list(union)\n",
    "        for a in union:\n",
    "            c_1.append(list(a))\n",
    "        return c_1\n",
    "    else:\n",
    "        union = db[0]\n",
    "        for i in range(1,len(db)-1):\n",
    "            union |= db[i]\n",
    "        union = list(union)\n",
    "        return combinaciones(union,k)"
   ]
  },
  {
   "cell_type": "code",
   "execution_count": 42,
   "metadata": {},
   "outputs": [
    {
     "data": {
      "text/plain": [
       "[['E'], ['C'], ['D'], ['A'], ['B']]"
      ]
     },
     "execution_count": 42,
     "metadata": {},
     "output_type": "execute_result"
    }
   ],
   "source": [
    "candidate(db,1)"
   ]
  },
  {
   "cell_type": "code",
   "execution_count": 3,
   "metadata": {},
   "outputs": [],
   "source": [
    "n_max_set = len(db[0])\n",
    "for i in range(1,len(db)-1):\n",
    "    if n_max_set < len(db[i]):\n",
    "        n_max_set = len(db[i])"
   ]
  },
  {
   "cell_type": "code",
   "execution_count": null,
   "metadata": {},
   "outputs": [],
   "source": []
  }
 ],
 "metadata": {
  "kernelspec": {
   "display_name": "Python 3",
   "language": "python",
   "name": "python3"
  },
  "language_info": {
   "codemirror_mode": {
    "name": "ipython",
    "version": 3
   },
   "file_extension": ".py",
   "mimetype": "text/x-python",
   "name": "python",
   "nbconvert_exporter": "python",
   "pygments_lexer": "ipython3",
   "version": "3.7.3"
  }
 },
 "nbformat": 4,
 "nbformat_minor": 4
}
