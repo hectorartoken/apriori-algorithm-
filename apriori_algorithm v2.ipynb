{
 "cells": [
  {
   "cell_type": "code",
   "execution_count": 1,
   "metadata": {},
   "outputs": [],
   "source": [
    "def potencia(c):\n",
    "    \"\"\"Calcula y devuelve el conjunto potencia del \n",
    "       conjunto c.\n",
    "    \"\"\"\n",
    "    if len(c) == 0:\n",
    "        return [[]]\n",
    "    r = potencia(c[:-1])\n",
    "    return r + [s + [c[-1]] for s in r]"
   ]
  },
  {
   "cell_type": "code",
   "execution_count": 2,
   "metadata": {},
   "outputs": [],
   "source": [
    "def combinaciones(c, n):\n",
    "    \"\"\"Calcula y devuelve una lista con todas las\n",
    "       combinaciones posibles que se pueden hacer\n",
    "       con los elementos contenidos en c tomando n\n",
    "       elementos a la vez.\n",
    "    \"\"\"\n",
    "    return [s for s in potencia(c) if len(s) == n]"
   ]
  },
  {
   "cell_type": "code",
   "execution_count": 3,
   "metadata": {},
   "outputs": [],
   "source": [
    "def scan_cnd(datos,k):\n",
    "    if k == 1:\n",
    "        c_1 = []\n",
    "        union = datos[0]\n",
    "        for i in range(1,len(datos)-1):\n",
    "            union = datos[i] | union\n",
    "        union = list(union)\n",
    "        for a in union:\n",
    "            c_1.append(list(a))\n",
    "        return c_1\n",
    "    else:\n",
    "        union = datos[0]\n",
    "        for i in range(1,len(datos)-1):\n",
    "            union = datos[i] | union\n",
    "        union = list(union)\n",
    "        combi = combinaciones(union,k)\n",
    "        return combi"
   ]
  },
  {
   "cell_type": "code",
   "execution_count": 4,
   "metadata": {},
   "outputs": [],
   "source": [
    "def select_l(cnd,sup):\n",
    "    no_cnd = []\n",
    "    for i in range(len(cnd)):\n",
    "        if cnd[i][1] < sup:\n",
    "            no_cnd.append(cnd[i])\n",
    "    for cancel in no_cnd:\n",
    "        cnd.remove(cancel)\n",
    "    return cnd"
   ]
  },
  {
   "cell_type": "code",
   "execution_count": 5,
   "metadata": {},
   "outputs": [],
   "source": [
    "def k_max(bd):\n",
    "    n_max_set = len(bd[0])\n",
    "    for i in range(1,len(bd)-1):\n",
    "        if n_max_set < len(bd[i]):\n",
    "            n_max_set = len(bd[i])\n",
    "    return n_max_set"
   ]
  },
  {
   "cell_type": "code",
   "execution_count": 6,
   "metadata": {},
   "outputs": [],
   "source": [
    "def apriori_algorithm(base_datos,min_sup):\n",
    "    k = k_max(base_datos)\n",
    "    for num in range(1,k):\n",
    "        scan = scan_cnd(base_datos,num)\n",
    "        candidato = []\n",
    "        for element in scan:\n",
    "            count = 0\n",
    "            for item in base_datos:\n",
    "                if set(element) & item == set(element):\n",
    "                    count += 1\n",
    "            candidato.append((set(element),count))\n",
    "        print(f'L{num} : {select_l(candidato,min_sup)}')"
   ]
  },
  {
   "cell_type": "code",
   "execution_count": 7,
   "metadata": {},
   "outputs": [
    {
     "name": "stdout",
     "output_type": "stream",
     "text": [
      "L1 : [({'E'}, 3), ({'C'}, 3), ({'A'}, 2), ({'B'}, 3)]\n",
      "L2 : [({'C', 'E'}, 2), ({'A', 'C'}, 2), ({'B', 'E'}, 3), ({'B', 'C'}, 2)]\n",
      "L3 : [({'B', 'C', 'E'}, 2)]\n"
     ]
    }
   ],
   "source": [
    "base = [{'A','C','D'},{'B','C','E'},{'A','B','C','E'},{'B','E'}]\n",
    "supp = 2\n",
    "apriori_algorithm(base,supp)"
   ]
  },
  {
   "cell_type": "code",
   "execution_count": null,
   "metadata": {},
   "outputs": [],
   "source": []
  }
 ],
 "metadata": {
  "kernelspec": {
   "display_name": "Python 3",
   "language": "python",
   "name": "python3"
  },
  "language_info": {
   "codemirror_mode": {
    "name": "ipython",
    "version": 3
   },
   "file_extension": ".py",
   "mimetype": "text/x-python",
   "name": "python",
   "nbconvert_exporter": "python",
   "pygments_lexer": "ipython3",
   "version": "3.7.3"
  }
 },
 "nbformat": 4,
 "nbformat_minor": 4
}
